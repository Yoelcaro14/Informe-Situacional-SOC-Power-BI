{
 "cells": [
  {
   "cell_type": "code",
   "execution_count": null,
   "metadata": {},
   "outputs": [],
   "source": [
    "''' Creando entorno virtual\n",
    "python -m venv env\n",
    ".\\env\\Scripts\\activate  \n",
    "'''"
   ]
  },
  {
   "cell_type": "code",
   "execution_count": 4,
   "metadata": {},
   "outputs": [],
   "source": [
    "''' Importando Librerias'''\n",
    "import pandas as pd\n",
    "import seaborn as sb\n",
    "import re\n"
   ]
  },
  {
   "cell_type": "code",
   "execution_count": null,
   "metadata": {},
   "outputs": [],
   "source": [
    "# pip install openpyxl\n",
    "# pip install seaborn  \n",
    "# pip freeze > requirements.txt"
   ]
  },
  {
   "attachments": {},
   "cell_type": "markdown",
   "metadata": {},
   "source": [
    "# Cargar de Datos"
   ]
  },
  {
   "cell_type": "code",
   "execution_count": 471,
   "metadata": {},
   "outputs": [
    {
     "name": "stderr",
     "output_type": "stream",
     "text": [
      "c:\\Users\\yoe_1\\AppData\\Local\\Programs\\Python\\Python310\\lib\\site-packages\\openpyxl\\styles\\stylesheet.py:226: UserWarning: Workbook contains no default style, apply openpyxl's default\n",
      "  warn(\"Workbook contains no default style, apply openpyxl's default\")\n",
      "c:\\Users\\yoe_1\\AppData\\Local\\Programs\\Python\\Python310\\lib\\site-packages\\openpyxl\\styles\\stylesheet.py:226: UserWarning: Workbook contains no default style, apply openpyxl's default\n",
      "  warn(\"Workbook contains no default style, apply openpyxl's default\")\n"
     ]
    }
   ],
   "source": [
    "'''Se carga las bases de datos'''\n",
    "df_2022= pd.read_excel('../Datos/bookings-report-11944-20230105191605_2022.xlsx',engine=\"openpyxl\")\n",
    "df_2021= pd.read_excel('../Datos/bookings-report-11944-20230110192000_2021.xlsx',engine=\"openpyxl\")\n",
    "df_2020= pd.read_csv('../Datos/bookings-report-11944-20230105195054_2020.csv')\n",
    "df_2019= pd.read_csv('../Datos/bookings-report-11944-20230105195220_2019.csv')\n",
    "df_2018= pd.read_csv('../Datos/bookings-report-11944-20230105195327_2018.csv')\n",
    "df_2017= pd.read_csv('../Datos/bookings-report-11944-20230105195426_2017.csv')\n",
    "df_2016= pd.read_csv('../Datos/bookings-report-11944-20230105195530_2016.csv')\n",
    "df_2015= pd.read_csv('../Datos/bookings-report-11944-20230105195614_2015.csv')\n",
    "df_2014= pd.read_csv('../Datos/bookings-report-11944-20230105195714_2014.csv')\n"
   ]
  },
  {
   "cell_type": "code",
   "execution_count": 472,
   "metadata": {},
   "outputs": [
    {
     "data": {
      "text/html": [
       "<div>\n",
       "<style scoped>\n",
       "    .dataframe tbody tr th:only-of-type {\n",
       "        vertical-align: middle;\n",
       "    }\n",
       "\n",
       "    .dataframe tbody tr th {\n",
       "        vertical-align: top;\n",
       "    }\n",
       "\n",
       "    .dataframe thead th {\n",
       "        text-align: right;\n",
       "    }\n",
       "</style>\n",
       "<table border=\"1\" class=\"dataframe\">\n",
       "  <thead>\n",
       "    <tr style=\"text-align: right;\">\n",
       "      <th></th>\n",
       "      <th>Adults</th>\n",
       "      <th>Arrival Airline</th>\n",
       "      <th>Arrival Drop-off</th>\n",
       "      <th>Arrival Flight No</th>\n",
       "      <th>Arrival Time</th>\n",
       "      <th>Barcodes</th>\n",
       "      <th>Booking Date</th>\n",
       "      <th>Booking Reference</th>\n",
       "      <th>Booking Source</th>\n",
       "      <th>Children</th>\n",
       "      <th>...</th>\n",
       "      <th>Product Code</th>\n",
       "      <th>Product Name</th>\n",
       "      <th>Seniors</th>\n",
       "      <th>Status</th>\n",
       "      <th>Supplier Confirmation Number</th>\n",
       "      <th>Tour Grade Code</th>\n",
       "      <th>Tour Grade Title</th>\n",
       "      <th>Tour Language</th>\n",
       "      <th>Travel Date</th>\n",
       "      <th>Youths</th>\n",
       "    </tr>\n",
       "  </thead>\n",
       "  <tbody>\n",
       "  </tbody>\n",
       "</table>\n",
       "<p>0 rows × 34 columns</p>\n",
       "</div>"
      ],
      "text/plain": [
       "Empty DataFrame\n",
       "Columns: [Adults, Arrival Airline, Arrival Drop-off, Arrival Flight No, Arrival Time, Barcodes, Booking Date, Booking Reference, Booking Source, Children, Currency, Departure Airline, Departure Date, Departure Flight No, Departure Pickup, Departure Time, Email, Hotel Pickup, Infants, Lead traveler Contact Info, Lead traveler Name, Mobile/Internet Channel, Net Price, Number of Passengers, Product Code, Product Name, Seniors, Status, Supplier Confirmation Number, Tour Grade Code, Tour Grade Title, Tour Language, Travel Date, Youths]\n",
       "Index: []\n",
       "\n",
       "[0 rows x 34 columns]"
      ]
     },
     "execution_count": 472,
     "metadata": {},
     "output_type": "execute_result"
    }
   ],
   "source": [
    "'''Uniendo las bases de datos'''\n",
    "df_merge = pd.concat([df_2014, df_2015,df_2016,df_2017,df_2018,df_2019,df_2020,df_2021,df_2022], ignore_index=True, sort=True)\n",
    "\n",
    "'''Validando datos unicos'''\n",
    "df_merge[df_merge.duplicated()]\n"
   ]
  },
  {
   "cell_type": "code",
   "execution_count": 473,
   "metadata": {},
   "outputs": [
    {
     "name": "stdout",
     "output_type": "stream",
     "text": [
      "<class 'pandas.core.frame.DataFrame'>\n",
      "RangeIndex: 385 entries, 0 to 384\n",
      "Data columns (total 34 columns):\n",
      " #   Column                        Non-Null Count  Dtype  \n",
      "---  ------                        --------------  -----  \n",
      " 0   Adults                        385 non-null    object \n",
      " 1   Arrival Airline               0 non-null      object \n",
      " 2   Arrival Drop-off              0 non-null      object \n",
      " 3   Arrival Flight No             0 non-null      object \n",
      " 4   Arrival Time                  0 non-null      object \n",
      " 5   Barcodes                      0 non-null      object \n",
      " 6   Booking Date                  385 non-null    object \n",
      " 7   Booking Reference             385 non-null    object \n",
      " 8   Booking Source                385 non-null    object \n",
      " 9   Children                      385 non-null    object \n",
      " 10  Currency                      385 non-null    object \n",
      " 11  Departure Airline             0 non-null      object \n",
      " 12  Departure Date                0 non-null      object \n",
      " 13  Departure Flight No           0 non-null      object \n",
      " 14  Departure Pickup              0 non-null      object \n",
      " 15  Departure Time                0 non-null      object \n",
      " 16  Email                         385 non-null    object \n",
      " 17  Hotel Pickup                  12 non-null     object \n",
      " 18  Infants                       385 non-null    object \n",
      " 19  Lead traveler Contact Info    379 non-null    object \n",
      " 20  Lead traveler Name            385 non-null    object \n",
      " 21  Mobile/Internet Channel       385 non-null    object \n",
      " 22  Net Price                     385 non-null    float64\n",
      " 23  Number of Passengers          385 non-null    object \n",
      " 24  Product Code                  385 non-null    object \n",
      " 25  Product Name                  385 non-null    object \n",
      " 26  Seniors                       385 non-null    object \n",
      " 27  Status                        385 non-null    object \n",
      " 28  Supplier Confirmation Number  0 non-null      object \n",
      " 29  Tour Grade Code               385 non-null    object \n",
      " 30  Tour Grade Title              380 non-null    object \n",
      " 31  Tour Language                 347 non-null    object \n",
      " 32  Travel Date                   385 non-null    object \n",
      " 33  Youths                        385 non-null    object \n",
      "dtypes: float64(1), object(33)\n",
      "memory usage: 102.4+ KB\n"
     ]
    }
   ],
   "source": [
    "df_merge.info()"
   ]
  },
  {
   "cell_type": "code",
   "execution_count": 474,
   "metadata": {},
   "outputs": [],
   "source": [
    "'''Seleccion de columnas relevantes'''\n",
    "df_merge=df_merge.dropna(axis=1,how='all')\n",
    "df_merge = df_merge.drop(['Infants','Seniors','Number of Passengers','Children','Youths','Lead traveler Contact Info'],axis=1)\n",
    "\n",
    "'''Fijando Formato Fecha'''\n",
    "df_merge['Booking Date'] = pd.to_datetime(df_merge['Booking Date'])\n"
   ]
  },
  {
   "attachments": {},
   "cell_type": "markdown",
   "metadata": {},
   "source": [
    "Se completan valores Nulos"
   ]
  },
  {
   "cell_type": "code",
   "execution_count": 475,
   "metadata": {},
   "outputs": [
    {
     "name": "stderr",
     "output_type": "stream",
     "text": [
      "C:\\Users\\yoe_1\\AppData\\Local\\Temp\\ipykernel_11720\\859254709.py:9: SettingWithCopyWarning: \n",
      "A value is trying to be set on a copy of a slice from a DataFrame\n",
      "\n",
      "See the caveats in the documentation: https://pandas.pydata.org/pandas-docs/stable/user_guide/indexing.html#returning-a-view-versus-a-copy\n",
      "  df_merge['Tour Grade Title'].loc[30]='Kayak Jungle Tour'\n",
      "C:\\Users\\yoe_1\\AppData\\Local\\Temp\\ipykernel_11720\\859254709.py:10: SettingWithCopyWarning: \n",
      "A value is trying to be set on a copy of a slice from a DataFrame\n",
      "\n",
      "See the caveats in the documentation: https://pandas.pydata.org/pandas-docs/stable/user_guide/indexing.html#returning-a-view-versus-a-copy\n",
      "  df_merge['Tour Grade Title'].loc[31]='Kayak Jungle Tour'\n",
      "C:\\Users\\yoe_1\\AppData\\Local\\Temp\\ipykernel_11720\\859254709.py:11: SettingWithCopyWarning: \n",
      "A value is trying to be set on a copy of a slice from a DataFrame\n",
      "\n",
      "See the caveats in the documentation: https://pandas.pydata.org/pandas-docs/stable/user_guide/indexing.html#returning-a-view-versus-a-copy\n",
      "  df_merge['Tour Grade Title'].loc[44]='Class IV-III Half Day Morning'\n",
      "C:\\Users\\yoe_1\\AppData\\Local\\Temp\\ipykernel_11720\\859254709.py:12: SettingWithCopyWarning: \n",
      "A value is trying to be set on a copy of a slice from a DataFrame\n",
      "\n",
      "See the caveats in the documentation: https://pandas.pydata.org/pandas-docs/stable/user_guide/indexing.html#returning-a-view-versus-a-copy\n",
      "  df_merge['Tour Grade Title'].loc[69]='Class IV-III Full Day'\n",
      "C:\\Users\\yoe_1\\AppData\\Local\\Temp\\ipykernel_11720\\859254709.py:13: SettingWithCopyWarning: \n",
      "A value is trying to be set on a copy of a slice from a DataFrame\n",
      "\n",
      "See the caveats in the documentation: https://pandas.pydata.org/pandas-docs/stable/user_guide/indexing.html#returning-a-view-versus-a-copy\n",
      "  df_merge['Tour Grade Title'].loc[78]='Class IV-III Full Day'\n"
     ]
    }
   ],
   "source": [
    "''' Se completan los datos faltantes del Idioma con English'''\n",
    "df_merge['Tour Language'].value_counts()\n",
    "df_merge['Tour Language']=df_merge['Tour Language'].fillna('English')\n",
    "\n",
    "'''Se estandariza la vatiable Mobil'''\n",
    "df_merge['Mobile/Internet Channel']=df_merge['Mobile/Internet Channel'].replace('Mobile Apps','Mobile')\n",
    "\n",
    "'''Completando algunos datos Vacios de Tour Grade Title'''# (Se reviso dato x dato)\n",
    "df_merge['Tour Grade Title'].loc[30]='Kayak Jungle Tour'\n",
    "df_merge['Tour Grade Title'].loc[31]='Kayak Jungle Tour'\n",
    "df_merge['Tour Grade Title'].loc[44]='Class IV-III Half Day Morning'\n",
    "df_merge['Tour Grade Title'].loc[69]='Class IV-III Full Day'\n",
    "df_merge['Tour Grade Title'].loc[78]='Class IV-III Full Day'\n",
    "\n",
    "\n",
    "'''Estandarizamos variable Hotel Pickup (1: Pichup - 0: No Pickup)'''\n",
    "df_merge['Hotel Pickup']=df_merge['Hotel Pickup'].fillna(0, inplace = False)\n",
    "\n",
    "def pickup(e): \n",
    "    if e != 0 : \n",
    "        return 1\n",
    "    else: return 0\n",
    "\n",
    "df_merge['Hotel Pickup']=df_merge['Hotel Pickup'].apply(pickup)"
   ]
  },
  {
   "attachments": {},
   "cell_type": "markdown",
   "metadata": {},
   "source": [
    "## Categorización del dato\n",
    "Estas columnas corresponden al tipo de dato numérico\n",
    "\n",
    "| categorical \t     | numerical \t            |\n",
    "|-----------\t     |-----------\t            |\n",
    "|Status - nominal    | Adults  - discrete     \t|\n",
    "|                    | Net Price - continuous   |"
   ]
  },
  {
   "cell_type": "code",
   "execution_count": 476,
   "metadata": {},
   "outputs": [
    {
     "name": "stdout",
     "output_type": "stream",
     "text": [
      "<class 'pandas.core.frame.DataFrame'>\n",
      "RangeIndex: 385 entries, 0 to 384\n",
      "Data columns (total 17 columns):\n",
      " #   Column                   Non-Null Count  Dtype         \n",
      "---  ------                   --------------  -----         \n",
      " 0   Adults                   385 non-null    object        \n",
      " 1   Booking Date             385 non-null    datetime64[ns]\n",
      " 2   Booking Reference        385 non-null    object        \n",
      " 3   Booking Source           385 non-null    object        \n",
      " 4   Currency                 385 non-null    object        \n",
      " 5   Email                    385 non-null    object        \n",
      " 6   Hotel Pickup             385 non-null    int64         \n",
      " 7   Lead traveler Name       385 non-null    object        \n",
      " 8   Mobile/Internet Channel  385 non-null    object        \n",
      " 9   Net Price                385 non-null    float64       \n",
      " 10  Product Code             385 non-null    object        \n",
      " 11  Product Name             385 non-null    object        \n",
      " 12  Status                   385 non-null    object        \n",
      " 13  Tour Grade Code          385 non-null    object        \n",
      " 14  Tour Grade Title         385 non-null    object        \n",
      " 15  Tour Language            385 non-null    object        \n",
      " 16  Travel Date              385 non-null    object        \n",
      "dtypes: datetime64[ns](1), float64(1), int64(1), object(14)\n",
      "memory usage: 51.3+ KB\n"
     ]
    }
   ],
   "source": [
    "df_merge.info()"
   ]
  },
  {
   "attachments": {},
   "cell_type": "markdown",
   "metadata": {},
   "source": [
    "Actividad Turistica Según su Codigo de Producto\n",
    "--\n",
    "* 11944P1 : 'Best Whitewater Rafting Sarapiqui River, Costa Rica, Class II-III'\n",
    "\n",
    "* 11944P2 : 'Best Whitewater Rafting Sarapiqui River, Costa Rica, Class III-IV'\n",
    "\n",
    "* 11944P5 : 'Kayak Jungle Tour - Sarapiqui River - Costa Rica'\n",
    "\n",
    "* 11944P12: 'Sarapiqui River Costa Rica White Water Rafting tour from Arenal, La Fortuna'\n",
    "\n",
    "* 11944P11: 'Pacuare River White Water Rafting Adventure Tour, Costa Rica'\n",
    "\n",
    "* 11944P3 : 'Safari Float in The Sarapiqui River'\n",
    "\n",
    "* 11944P6 : 'White water Rafting Sarapiqui River'\n",
    "\n",
    "* 11944P4 : 'Overnight White Water Rafting Sarapiqui'"
   ]
  },
  {
   "cell_type": "code",
   "execution_count": 477,
   "metadata": {},
   "outputs": [],
   "source": [
    "'''Se crea la Columna Actividad y elimina las columnas Product Code y Product Name Code '''\n",
    "def prod_cod(codigo) :\n",
    "    if codigo == '11944P1':\n",
    "       return 'Rafting,Class II-III'\n",
    "    elif codigo == '11944P2':\n",
    "        return 'Rafting, Class III-IV'\n",
    "    elif codigo == '11944P5':\n",
    "        return 'Kayak Jungle Tour'\n",
    "    elif codigo == '11944P12':\n",
    "        return 'Rafting tour, La Fortuna(Arenal)'\n",
    "    elif codigo == '11944P11':\n",
    "        return 'Rafting Tour, Pacuare River'\n",
    "    elif codigo == '11944P3':\n",
    "        return 'Safari Float in The Sarapiqui River'\n",
    "    elif codigo == '11944P6':\n",
    "        return 'White water Rafting Sarapiqui River'\n",
    "    elif codigo == '11944P4':\n",
    "        return 'Overnight White Water Rafting Sarapiqui'\n",
    "\n",
    "df_merge['Actividad'] = df_merge['Product Code'].apply(prod_cod)\n",
    "df_merge= df_merge.drop(['Product Code','Product Name'],axis=1)\n"
   ]
  },
  {
   "cell_type": "code",
   "execution_count": 478,
   "metadata": {},
   "outputs": [],
   "source": [
    "'''Se eliminan espacios en blanco dentro del dataset'''\n",
    "df_merge['Tour Grade Title'].str.strip()\n",
    "\n",
    "'''Se standarizan la columna Horario'''\n",
    "def horario(hora) : \n",
    "    if hora == 'TG1~07:00' or hora == 'TG1~06:00' or hora == 'TG1~07:30' or hora == 'TG1~08:00' or hora == 'TG1~09:00' or hora == 'TG2~09:00' or (hora.rfind('Full Day')>0) or (hora.rfind('07:00')>0) or (hora.rfind('08:00')>0) or (hora.rfind('07:30')>0) or  hora=='Vormittagstour' or (hora.rfind('mañana')>0) or  hora=='Kayak Jungle Tour' or (hora.rfind('06:00')>0)  :\n",
    "       return 'De 6 AM a 9 AM'\n",
    "    elif hora == 'TG1~10:00' or hora == 'TG4~10:00' or  hora == 'TG2~11:00' or hora == 'TG1~11:00' or hora == 'TG3~11:00' or hora == 'TG4~11:00' or (hora.rfind('Morning')>0) or hora=='Morning Tour'or (hora.rfind('11:00')>0) or (hora.rfind('10:00')>0) or (hora.rfind('09:00')>0) or (hora.rfind('Midday')>0) or  hora=='Mid-day Tour' or (hora.rfind('journée')>0) or  hora=='10:00'   :\n",
    "        return 'De 10 AM a 12 PM'\n",
    "    elif hora == 'TG2~13:00' or hora == 'TG1~13:00' or hora == 'TG1~15:00' or hora == 'TG2~15:00' or hora == 'TG2~14:00' or hora == 'TG2~14:30'   or hora == 'TG2~16:00'  or (hora.rfind('Afternoon')>0) or hora=='Afternoon Tour' or (hora.rfind('14:00')>0) or (hora.rfind('15:00')>0) or (hora.rfind('13:00')>0) or (hora.rfind('16:00')>0) or (hora.rfind('tarde')>0) :\n",
    "        return 'De 1 PM a 3 PM'\n",
    "\n",
    "df_merge['Horario'] = df_merge['Tour Grade Code'].apply(horario)\n",
    "df_merge['Horario'] = df_merge['Tour Grade Title'].apply(horario)\n",
    "# df_travel= df_travel.drop(['Tour Grade Code','Tour Grade Title'],axis=1)\n"
   ]
  },
  {
   "cell_type": "code",
   "execution_count": 479,
   "metadata": {},
   "outputs": [],
   "source": [
    "''' Convertiendo valores a Dummies'''\n",
    "df_merge_dum = pd.get_dummies(df_merge[['Status', 'Tour Language','Mobile/Internet Channel','Booking Source']],columns=['Status', 'Tour Language','Mobile/Internet Channel','Booking Source'])\n",
    "df_merge=pd.concat([df_merge, df_merge_dum], axis=1)"
   ]
  },
  {
   "cell_type": "code",
   "execution_count": 480,
   "metadata": {},
   "outputs": [],
   "source": [
    "''' Guardar todos los archivo '''\n",
    "df_merge.to_csv('./Transformados/df_merge.csv',index=False)"
   ]
  },
  {
   "cell_type": "markdown",
   "metadata": {},
   "source": [
    "---"
   ]
  }
 ],
 "metadata": {
  "kernelspec": {
   "display_name": "Python 3",
   "language": "python",
   "name": "python3"
  },
  "language_info": {
   "codemirror_mode": {
    "name": "ipython",
    "version": 3
   },
   "file_extension": ".py",
   "mimetype": "text/x-python",
   "name": "python",
   "nbconvert_exporter": "python",
   "pygments_lexer": "ipython3",
   "version": "3.10.5"
  },
  "orig_nbformat": 4,
  "vscode": {
   "interpreter": {
    "hash": "8980bbbafe033103a935f0cce017762032615efff8d070c765d7d2f2e6fe8fa0"
   }
  }
 },
 "nbformat": 4,
 "nbformat_minor": 2
}
